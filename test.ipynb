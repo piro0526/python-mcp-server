{
 "cells": [
  {
   "cell_type": "code",
   "execution_count": null,
   "id": "e42a9f7f",
   "metadata": {},
   "outputs": [],
   "source": [
    "from mcp import MCPServer"
   ]
  },
  {
   "cell_type": "code",
   "execution_count": null,
   "id": "c50fb495",
   "metadata": {},
   "outputs": [],
   "source": [
    "server_info = {\"name\": \"ExampleServer\", \"title\": \"Example Server Display Name\", \"version\": \"1.0.0\"}\n",
    "options = {\"capabilities\": {\"tools\": {}}, \"instructions\": \"Optional instructions for the client\"}\n",
    "mcp_server = MCPServer(server_info, options)\n",
    "mcp_server.set_tool_request_handler()\n",
    "\n",
    "example_tool = Tool(\n",
    "    name=\"exampleTool\",\n",
    "    title=\"Example Tool\",\n",
    "    description=\"An example tool for demonstration purposes.\",\n",
    "    inputSchema={\"type\": \"object\", \"properties\": {\"input\": {\"type\": \"string\"}}},\n",
    "    outputSchema={\"type\": \"object\", \"properties\": {\"output\": {\"type\": \"string\"}}},\n",
    "    callback=lambda input: {\"output\": f\"Processed input: {input['input']}\"},\n",
    ")\n",
    "mcp_server.register_tool(example_tool)\n",
    "transport = stdio_transport()\n",
    "await mcp_server.connect(transport)"
   ]
  }
 ],
 "metadata": {
  "language_info": {
   "name": "python"
  }
 },
 "nbformat": 4,
 "nbformat_minor": 5
}
